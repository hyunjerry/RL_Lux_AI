{
  "cells": [
    {
      "cell_type": "code",
      "execution_count": 3,
      "metadata": {
        "id": "fuq-zxzyghkl"
      },
      "outputs": [],
      "source": [
        "import os\n",
        "cur_dir = os.getcwd()\n",
        "print(cur_dir)"
      ]
    },
    {
      "cell_type": "code",
      "execution_count": null,
      "metadata": {
        "id": "H-TvsQYvg0C4"
      },
      "outputs": [],
      "source": [
        "# Train a models for Ensemble method\n",
        "# update ./UNet_attention_jason_0-3_ensemble/train.py\n",
        "# Model parameters could be changed from line 334\n",
        "\n",
        "!python UNet_attention_jason_0-3_ensemble/train.py"
      ]
    },
    {
      "cell_type": "code",
      "execution_count": 1,
      "metadata": {
        "colab": {
          "base_uri": "https://localhost:8080/"
        },
        "id": "7wX6YkkRFQER",
        "outputId": "e9064316-f20d-46f0-da32-91d15726bbaa"
      },
      "outputs": [],
      "source": [
        "# Create Ensemble submission file\n",
        "# If you have new model files (.pth) that you would like to include\n",
        "# modify ./UNet_attention_jason_0-3_ensemble/agent.py\n",
        "# Submission file will be created at ./UNet_attention_jason_0-3\n",
        "\n",
        "%cd f'{cur_dic}/UNet_attention_jason_0-3''\n",
        "!tar -czf submission.tar.gz *"
      ]
    }
  ],
  "metadata": {
    "accelerator": "GPU",
    "colab": {
      "gpuType": "T4",
      "machine_shape": "hm",
      "provenance": []
    },
    "kernelspec": {
      "display_name": "Python 3",
      "name": "python3"
    },
    "language_info": {
      "codemirror_mode": {
        "name": "ipython",
        "version": 3
      },
      "file_extension": ".py",
      "mimetype": "text/x-python",
      "name": "python",
      "nbconvert_exporter": "python",
      "pygments_lexer": "ipython3",
      "version": "3.10.13"
    }
  },
  "nbformat": 4,
  "nbformat_minor": 0
}
