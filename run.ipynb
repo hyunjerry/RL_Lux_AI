{
  "cells": [
    {
      "cell_type": "code",
      "execution_count": null,
      "metadata": {
        "colab": {
          "base_uri": "https://localhost:8080/"
        },
        "id": "PmkCLeuFTeTR",
        "outputId": "3d7be480-b983-422c-e3e0-007c2dcd13ac"
      },
      "outputs": [
        {
          "output_type": "stream",
          "name": "stdout",
          "text": [
            "/content/drive/My Drive/LuxAI Train\n",
            "/content/drive/My Drive/LuxAI Train\n"
          ]
        }
      ],
      "source": [
        "from google.colab import drive\n",
        "import os\n",
        "\n",
        "drive.mount('/content/drive')\n",
        "%cd '/content/drive/My Drive/LuxAI Train'\n",
        "print(os.getcwd())"
      ]
    },
    {
      "cell_type": "code",
      "source": [
        "###############################\n",
        "%cd '/content/drive/My Drive/RL HW4/UNet_attention_jason_0-3'\n",
        "\n",
        "!tar -czf submission.tar.gz *\n"
      ],
      "metadata": {
        "colab": {
          "base_uri": "https://localhost:8080/"
        },
        "id": "Ksli35r-4DHr",
        "outputId": "9d9c4aad-197d-40e0-c967-5da1af44ac04"
      },
      "execution_count": null,
      "outputs": [
        {
          "output_type": "stream",
          "name": "stdout",
          "text": [
            "/content/drive/My Drive/RL HW4/UNet_attention_jason_0-3\n",
            "tar: agent.py: file changed as we read it\n",
            "tar: lux/game.py: file changed as we read it\n",
            "tar: lux/game_constants.json: file changed as we read it\n",
            "tar: lux/game_constants.py: file changed as we read it\n",
            "tar: lux/annotate.py: file changed as we read it\n",
            "tar: lux/constants.py: file changed as we read it\n",
            "tar: lux/game_map.py: file changed as we read it\n",
            "tar: lux/game_objects.py: file changed as we read it\n",
            "tar: lux/__pycache__/game_objects.cpython-311.pyc: file changed as we read it\n",
            "tar: lux/__pycache__/__init__.cpython-311.pyc: file changed as we read it\n",
            "tar: lux/__pycache__/game_constants.cpython-311.pyc: file changed as we read it\n",
            "tar: lux/__pycache__/game.cpython-311.pyc: file changed as we read it\n",
            "tar: lux/__pycache__/game_map.cpython-311.pyc: file changed as we read it\n",
            "tar: lux/__pycache__/constants.cpython-311.pyc: file changed as we read it\n",
            "tar: lux/__pycache__/__init__.cpython-310.pyc: file changed as we read it\n",
            "tar: lux/__pycache__/game.cpython-310.pyc: file changed as we read it\n",
            "tar: lux/__pycache__/constants.cpython-310.pyc: file changed as we read it\n",
            "tar: lux/__pycache__/game_map.cpython-310.pyc: file changed as we read it\n",
            "tar: lux/__pycache__/game_objects.cpython-310.pyc: file changed as we read it\n",
            "tar: lux/__pycache__/game_constants.cpython-310.pyc: file changed as we read it\n",
            "tar: main.py: file changed as we read it\n",
            "tar: model_0_11_epochs_accu_0.84_loss_0.42.pth: file changed as we read it\n",
            "tar: __pycache__/unet_parts.cpython-311.pyc: file changed as we read it\n",
            "tar: __pycache__/unet_model.cpython-311.pyc: file changed as we read it\n",
            "tar: __pycache__/agent.cpython-311.pyc: file changed as we read it\n",
            "tar: __pycache__/agent.cpython-310.pyc: file changed as we read it\n",
            "tar: replays/1710894208334_xaImdaeJxW5e.json: file changed as we read it\n",
            "tar: train.py: file changed as we read it\n",
            "tar: unet_model.py: file changed as we read it\n",
            "tar: unet_parts.py: file changed as we read it\n"
          ]
        }
      ]
    },
    {
      "cell_type": "code",
      "execution_count": null,
      "metadata": {
        "id": "qftMyNQsS2_j"
      },
      "outputs": [],
      "source": [
        "print(os.getcwd())\n",
        "\n",
        "!python UNet_attention/train.py"
      ]
    },
    {
      "cell_type": "code",
      "source": [
        "# %cd ..\n",
        "# !pwd\n",
        "# %cd ./RL\\ HW4/UNet_attention_jason_0-3\n",
        "# %cd ./UNet_attention_jason_0-3_ensemble\n",
        "!pwd"
      ],
      "metadata": {
        "colab": {
          "base_uri": "https://localhost:8080/"
        },
        "id": "HqN0OMgUFRO2",
        "outputId": "69b2f32b-a81f-4d6c-fc6c-d99f2fd2e0d9"
      },
      "execution_count": null,
      "outputs": [
        {
          "output_type": "stream",
          "name": "stdout",
          "text": [
            "/content/drive/MyDrive/RL HW4/UNet_attention_jason_0-3_ensemble\n",
            "/content/drive/MyDrive/RL HW4/UNet_attention_jason_0-3_ensemble\n"
          ]
        }
      ]
    },
    {
      "cell_type": "code",
      "source": [
        "# create submission file\n",
        "# !tar -czf submission.tar.gz *"
      ],
      "metadata": {
        "colab": {
          "base_uri": "https://localhost:8080/"
        },
        "id": "7wX6YkkRFQER",
        "outputId": "e9064316-f20d-46f0-da32-91d15726bbaa"
      },
      "execution_count": null,
      "outputs": [
        {
          "output_type": "stream",
          "name": "stdout",
          "text": [
            "tar: agent.py: file changed as we read it\n",
            "tar: lux/game_constants.json: file changed as we read it\n",
            "tar: lux/game_constants.py: file changed as we read it\n",
            "tar: lux/annotate.py: file changed as we read it\n",
            "tar: lux/constants.py: file changed as we read it\n",
            "tar: lux/game.py: file changed as we read it\n",
            "tar: lux/game_map.py: file changed as we read it\n",
            "tar: lux/game_objects.py: file changed as we read it\n",
            "tar: lux/__pycache__/game_constants.cpython-310.pyc: file changed as we read it\n",
            "tar: lux/__pycache__/__init__.cpython-311.pyc: file changed as we read it\n",
            "tar: lux/__pycache__/game_map.cpython-311.pyc: file changed as we read it\n",
            "tar: lux/__pycache__/game_map.cpython-310.pyc: file changed as we read it\n",
            "tar: lux/__pycache__/game_objects.cpython-311.pyc: file changed as we read it\n",
            "tar: lux/__pycache__/game.cpython-310.pyc: file changed as we read it\n",
            "tar: lux/__pycache__/constants.cpython-310.pyc: file changed as we read it\n",
            "tar: lux/__pycache__/game.cpython-311.pyc: file changed as we read it\n",
            "tar: lux/__pycache__/game_objects.cpython-310.pyc: file changed as we read it\n",
            "tar: lux/__pycache__/constants.cpython-311.pyc: file changed as we read it\n",
            "tar: lux/__pycache__/game_constants.cpython-311.pyc: file changed as we read it\n",
            "tar: lux/__pycache__/__init__.cpython-310.pyc: file changed as we read it\n",
            "tar: main.py: file changed as we read it\n",
            "tar: model_0_11_epochs_accu_0.84_loss_0.42.pth: file changed as we read it\n",
            "tar: model_1_15_epochs_accu_0.84_loss_0.43.pth: file changed as we read it\n",
            "tar: model_2_11_epochs_accu_0.82_loss_0.47.pth: file changed as we read it\n",
            "tar: model_3_14_epochs_accu_0.82_loss_0.47.pth: file changed as we read it\n",
            "tar: __pycache__/unet_parts.cpython-311.pyc: file changed as we read it\n",
            "tar: __pycache__/unet_model.cpython-311.pyc: file changed as we read it\n",
            "tar: __pycache__/agent.cpython-310.pyc: file changed as we read it\n",
            "tar: __pycache__/agent.cpython-311.pyc: file changed as we read it\n",
            "tar: replays/1710894208334_xaImdaeJxW5e.json: file changed as we read it\n",
            "tar: train.py: file changed as we read it\n",
            "tar: unet_model.py: file changed as we read it\n",
            "tar: unet_parts.py: file changed as we read it\n"
          ]
        }
      ]
    }
  ],
  "metadata": {
    "accelerator": "GPU",
    "colab": {
      "gpuType": "T4",
      "machine_shape": "hm",
      "provenance": []
    },
    "kernelspec": {
      "display_name": "Python 3",
      "name": "python3"
    },
    "language_info": {
      "name": "python"
    }
  },
  "nbformat": 4,
  "nbformat_minor": 0
}