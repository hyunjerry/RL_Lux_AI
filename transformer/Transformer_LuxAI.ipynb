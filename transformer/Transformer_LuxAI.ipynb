{
  "cells": [
    {
      "cell_type": "code",
      "execution_count": null,
      "metadata": {
        "colab": {
          "base_uri": "https://localhost:8080/"
        },
        "id": "Y0AUE4YuGmsY",
        "outputId": "b3ac7bac-1636-46c5-df15-2bd910a7bf3b"
      },
      "outputs": [
        {
          "name": "stdout",
          "output_type": "stream",
          "text": [
            "/content/drive/My Drive/Colab Notebooks/RL/LuxPythonEnvGym/Lux-Taku\n"
          ]
        }
      ],
      "source": [
        "import os\n",
        "os.getcwd()\n",
        "\n",
        "%cd '/content/drive/My Drive/Colab Notebooks/RL/LuxPythonEnvGym/Lux-Taku'"
      ]
    },
    {
      "cell_type": "code",
      "execution_count": null,
      "metadata": {
        "colab": {
          "base_uri": "https://localhost:8080/"
        },
        "id": "bP_qOCqiUtna",
        "outputId": "4f257696-15d4-4a84-ba85-75d2f3574cc2"
      },
      "outputs": [
        {
          "name": "stdout",
          "output_type": "stream",
          "text": [
            "Mounted at /content/drive\n"
          ]
        }
      ],
      "source": [
        "from google.colab import drive\n",
        "\n",
        "drive.mount('/content/drive')"
      ]
    },
    {
      "cell_type": "code",
      "execution_count": null,
      "metadata": {
        "colab": {
          "base_uri": "https://localhost:8080/"
        },
        "id": "Xt2NZWkfU5sF",
        "outputId": "93bb2025-a064-4ad7-e28a-dbb80587207d"
      },
      "outputs": [
        {
          "name": "stdout",
          "output_type": "stream",
          "text": [
            "Overwriting config.py\n"
          ]
        }
      ],
      "source": [
        "%%writefile config.py\n",
        "# code credit to: https://github.com/takuwwwo/LuxAI\n",
        "\n",
        "import json\n",
        "\n",
        "# with open('./SETTINGS.json') as f:\n",
        "#     settings = json.load(f)\n",
        "\n",
        "# PROJECT_PATH = settings['PROJECT_PATH']\n",
        "# DATASET_PATH = settings['DATASET_PATH']\n",
        "# MODEL_DIR = settings['MODEL_DIR']\n",
        "\n",
        "DATASET_PATH = \"/content/drive/My Drive/Colab Notebooks/RL/LuxPythonEnvGym/Lux-Taku/data\"\n",
        "MODEL_DIR = \"/content/drive/My Drive/Colab Notebooks/RL/LuxPythonEnvGym/Lux-Taku/model\"\n",
        "\n",
        "SEED = 42\n",
        "\n",
        "# training parameters\n",
        "NUM_EPOCHS = 100\n",
        "# LAYERS = 18\n",
        "LAYERS = 8\n",
        "VAL_RATIO = 0.0\n",
        "BATCH_SIZE = 64\n",
        "FEATURE_SIZE = 384\n",
        "NUM_WORKERS = 14\n",
        "WEIGHT_DECAY = 1e-05\n",
        "LR = 1e-03\n",
        "CENTER_WEIGHT = 0.3\n",
        "\n",
        "SUBMISSION_ID_LIST = [23297953, 23692494, 23281649, 23825143, 23825329, 23825266, 23825370]\n",
        "TEAM_NAME_LIST = ['Toad Brigade', 'Toad Brigade', 'Toad Brigade', 'RL is all you need', 'RL is all you need',\n",
        "                  'RL is all you need', 'RL is all you need']\n"
      ]
    },
    {
      "cell_type": "code",
      "execution_count": null,
      "metadata": {
        "colab": {
          "background_save": true,
          "base_uri": "https://localhost:8080/"
        },
        "id": "tZpoLjCZUhXo",
        "outputId": "3cbe09e7-9c19-4b15-d089-8551a7f9230f"
      },
      "outputs": [
        {
          "name": "stdout",
          "output_type": "stream",
          "text": [
            "submission ID: 23297953, train data: 134224, valid data: 0\n",
            "submission ID: 23692494, train data: 77541, valid data: 0\n",
            "submission ID: 23281649, train data: 146098, valid data: 0\n",
            "submission ID: 23825143, train data: 20198, valid data: 0\n",
            "submission ID: 23825329, train data: 0, valid data: 0\n",
            "submission ID: 23825266, train data: 15137, valid data: 0\n",
            "submission ID: 23825370, train data: 17652, valid data: 0\n",
            "True\n",
            "<dataset.LuxDataset object at 0x7d8e5b94d3f0> 0\n",
            "/usr/local/lib/python3.10/dist-packages/torch/utils/data/dataloader.py:558: UserWarning: This DataLoader will create 14 worker processes in total. Our suggested max number of worker in current system is 8, which is smaller than what this DataLoader is going to create. Please be aware that excessive worker creation might get DataLoader running slow or even freeze, lower the worker number to avoid potential slowness/freeze if necessary.\n",
            "  warnings.warn(_create_warning_msg(\n",
            "  0% 0/6420 [00:00<?, ?it/s]/usr/local/lib/python3.10/dist-packages/torch/utils/data/dataloader.py:558: UserWarning: This DataLoader will create 14 worker processes in total. Our suggested max number of worker in current system is 8, which is smaller than what this DataLoader is going to create. Please be aware that excessive worker creation might get DataLoader running slow or even freeze, lower the worker number to avoid potential slowness/freeze if necessary.\n",
            "  warnings.warn(_create_warning_msg(\n",
            "/usr/lib/python3.10/multiprocessing/popen_fork.py:66: RuntimeWarning: os.fork() was called. os.fork() is incompatible with multithreaded code, and JAX is multithreaded, so this will likely lead to a deadlock.\n",
            "  self.pid = os.fork()\n",
            "/usr/local/lib/python3.10/dist-packages/torch/nn/_reduction.py:42: UserWarning: size_average and reduce args will be deprecated, please use reduction='none' instead.\n",
            "  warnings.warn(warning.format(ret))\n",
            "100% 6420/6420 [1:47:49<00:00,  1.01s/it]\n",
            "Epoch 1/100 | train | Loss: 0.5213 | Acc: 0.7149 | CLoss: 0.0482 | CACC: 0.9871\n",
            "100% 6420/6420 [1:47:56<00:00,  1.01s/it]\n",
            "Epoch 2/100 | train | Loss: 0.3915 | Acc: 0.7784 | CLoss: 0.0354 | CACC: 0.9898\n",
            "100% 6420/6420 [1:47:53<00:00,  1.01s/it]\n",
            "Epoch 3/100 | train | Loss: 0.3514 | Acc: 0.7982 | CLoss: 0.0319 | CACC: 0.9905\n",
            "100% 6420/6420 [1:48:01<00:00,  1.01s/it]\n",
            "Epoch 4/100 | train | Loss: 0.3300 | Acc: 0.8094 | CLoss: 0.0299 | CACC: 0.9909\n",
            "100% 6420/6420 [1:48:04<00:00,  1.01s/it]\n",
            "Epoch 5/100 | train | Loss: 0.3209 | Acc: 0.8142 | CLoss: 0.0290 | CACC: 0.9910\n",
            "100% 6420/6420 [1:48:03<00:00,  1.01s/it]\n",
            "Epoch 6/100 | train | Loss: 0.3074 | Acc: 0.8215 | CLoss: 0.0278 | CACC: 0.9913\n",
            "100% 6420/6420 [1:48:04<00:00,  1.01s/it]\n",
            "Epoch 7/100 | train | Loss: 0.2989 | Acc: 0.8261 | CLoss: 0.0272 | CACC: 0.9914\n",
            "100% 6420/6420 [1:48:09<00:00,  1.01s/it]\n",
            "Epoch 8/100 | train | Loss: 0.2940 | Acc: 0.8288 | CLoss: 0.0268 | CACC: 0.9915\n",
            "100% 6420/6420 [1:48:04<00:00,  1.01s/it]\n",
            "Epoch 9/100 | train | Loss: 0.2887 | Acc: 0.8315 | CLoss: 0.0261 | CACC: 0.9916\n",
            " 23% 1489/6420 [25:09<1:22:52,  1.01s/it]"
          ]
        }
      ],
      "source": [
        "#Only run this once you're in the same folder as the notebook\n",
        "#You will also need to modify the config.py file which has file paths\n",
        "#And Upload your full_episodes onto colab or google drive to train with them\n",
        "!python train.py"
      ]
    },
    {
      "cell_type": "code",
      "execution_count": null,
      "metadata": {
        "colab": {
          "base_uri": "https://localhost:8080/"
        },
        "id": "uga76yGEUooC",
        "outputId": "7e39a94c-7a6a-404c-d600-9b74e37aac0b"
      },
      "outputs": [
        {
          "name": "stdout",
          "output_type": "stream",
          "text": [
            "drive  sample_data\n"
          ]
        }
      ],
      "source": []
    },
    {
      "cell_type": "code",
      "execution_count": null,
      "metadata": {
        "id": "N5G7JOTssM-S"
      },
      "outputs": [],
      "source": []
    }
  ],
  "metadata": {
    "accelerator": "GPU",
    "colab": {
      "gpuType": "T4",
      "machine_shape": "hm",
      "provenance": []
    },
    "kernelspec": {
      "display_name": "Python 3",
      "name": "python3"
    },
    "language_info": {
      "name": "python"
    }
  },
  "nbformat": 4,
  "nbformat_minor": 0
}